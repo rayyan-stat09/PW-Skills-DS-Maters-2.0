{
 "cells": [
  {
   "cell_type": "code",
   "execution_count": 1,
   "id": "e67b048f-ba08-4415-b233-5d77e4f213dc",
   "metadata": {},
   "outputs": [],
   "source": [
    "# 1.\n",
    "# (i)\n",
    "a='rayyan'\n",
    "# (ii)\n",
    "b=[1,2,'abc']\n",
    "#(iii)\n",
    "c=1.25\n",
    "#(iv)\n",
    "d=(2,3,4,'abc')"
   ]
  },
  {
   "cell_type": "markdown",
   "id": "69aca1bf-f47b-499b-8b60-ffba3cfc9c59",
   "metadata": {},
   "source": [
    "2.\n",
    "(i) String\n",
    "(ii) String\n",
    "(iii) List\n",
    "(iv) Float"
   ]
  },
  {
   "cell_type": "code",
   "execution_count": null,
   "id": "2796cc31-cbb1-42ea-81ab-0dd7d3089d96",
   "metadata": {},
   "outputs": [],
   "source": [
    "# 3 (i)'/' is used for normal division of two numbers. Ex.\n",
    "5/2 # gives answer 2.5"
   ]
  },
  {
   "cell_type": "code",
   "execution_count": null,
   "id": "94d1038b-c804-43e3-89e9-eb706f248977",
   "metadata": {},
   "outputs": [],
   "source": [
    "# 3 (ii) '%' is used to get remainder when dividing two integers. Ex,\n",
    "11%4 # gives remainder 3 as answer"
   ]
  },
  {
   "cell_type": "code",
   "execution_count": null,
   "id": "bcd846b7-689e-46c2-8aed-4ce82fb63d30",
   "metadata": {},
   "outputs": [],
   "source": [
    "# 3(iii) '//' is used for integer division. \n",
    "#       Or '//' gives floor value of division. Ex.\n",
    "11//4 # gives 2 "
   ]
  },
  {
   "cell_type": "code",
   "execution_count": null,
   "id": "937aad08-5c3c-4de8-91d9-39191c185c1d",
   "metadata": {},
   "outputs": [],
   "source": [
    "# 3 (iv) '**' is exponent operator used to find powers. Ex.\n",
    "3**4 # is same as 3*3*3*3"
   ]
  },
  {
   "cell_type": "code",
   "execution_count": null,
   "id": "6ae913d5-3350-4c57-9003-92ac38014f8c",
   "metadata": {},
   "outputs": [],
   "source": [
    "#4\n",
    "l=[12,1.5,'abc',[2,3,4],('abc',731),'Data','Science',99,'jefguqewt',0]\n",
    "for i in l:\n",
    "    print(i,type(i))"
   ]
  },
  {
   "cell_type": "code",
   "execution_count": 12,
   "id": "a13f182c-b10c-4f5f-823d-eba20c3f2cc0",
   "metadata": {},
   "outputs": [
    {
     "name": "stdin",
     "output_type": "stream",
     "text": [
      "Enter value of A: 12\n",
      "Enter value of B: 2\n"
     ]
    },
    {
     "name": "stdout",
     "output_type": "stream",
     "text": [
      "A is disible by B, 2 number of times.\n"
     ]
    }
   ],
   "source": [
    "#5.\n",
    "A=float(input('Enter value of A:',))\n",
    "B=float(input('Enter value of B:',))\n",
    "n=0\n",
    "while A%B==0:\n",
    "    n+=1\n",
    "    A/=B\n",
    "if n==0:\n",
    "    print('A is not divisible by B')\n",
    "else:\n",
    "    print('A is disible by B,',n,'number of times.')\n",
    "\n"
   ]
  },
  {
   "cell_type": "code",
   "execution_count": 21,
   "id": "21bfda01-c9fc-4d03-81f6-b4c56f8e8853",
   "metadata": {},
   "outputs": [
    {
     "name": "stdout",
     "output_type": "stream",
     "text": [
      "24 is divisible by 3\n",
      "65 is not divisible by 3\n",
      "76 is not divisible by 3\n",
      "43 is not divisible by 3\n",
      "51 is divisible by 3\n",
      "84 is divisible by 3\n",
      "7 is not divisible by 3\n",
      "5 is not divisible by 3\n",
      "88 is not divisible by 3\n",
      "87 is divisible by 3\n",
      "98 is not divisible by 3\n",
      "94 is not divisible by 3\n",
      "21 is divisible by 3\n",
      "35 is not divisible by 3\n",
      "47 is not divisible by 3\n",
      "21 is divisible by 3\n",
      "9 is divisible by 3\n",
      "742 is not divisible by 3\n",
      "15 is divisible by 3\n",
      "24 is divisible by 3\n",
      "54 is divisible by 3\n",
      "65 is not divisible by 3\n",
      "742 is not divisible by 3\n",
      "638 is not divisible by 3\n",
      "978 is divisible by 3\n"
     ]
    }
   ],
   "source": [
    "# 6\n",
    "List=[24,65,76,43,51,84,7,5,88,87,98,94,21,35,47,21,9,742,15,24,54,65,742,638,978]\n",
    "for i in List:\n",
    "    if i%3==0:\n",
    "        print(i,'is divisible by 3')\n",
    "    else:\n",
    "        print(i,'is not divisible by 3')"
   ]
  },
  {
   "cell_type": "markdown",
   "id": "dd49a909-efbf-438c-b967-167318dafb8a",
   "metadata": {},
   "source": [
    "7.\n",
    "Data types can be categorized as mutable or immutable based on whether their values can be changed after they are created.\n",
    "\n",
    "Immutable data types are those whose values cannot be modified once they are assigned. Any attempt to modify an immutable object will result in the creation of a new object with the modified value. Example: Strings,Tuples\n",
    "\n",
    "Mutable data types, on the other hand, allow modifications to their values after they are assigned. Example: Lists, Dictionaries.\n"
   ]
  },
  {
   "cell_type": "code",
   "execution_count": null,
   "id": "a7537f08-0d0f-4960-92a7-fcc51d42b150",
   "metadata": {},
   "outputs": [],
   "source": [
    "#Immutable\n",
    "\n",
    "#Strings\n",
    "str1 = \"Hello\"\n",
    "str2 = str1 + \" World\"  # Concatenation creates a new string\n",
    "print(str1)  # Output: Hello\n",
    "print(str2)  # Output: Hello World\n",
    "\n",
    "#Tuples\n",
    "tuple1 = (1, 2, 3)\n",
    "tuple2 = tuple1 + (4,)  # Concatenation creates a new tuple\n",
    "print(tuple1)  # Output: (1, 2, 3)\n",
    "print(tuple2)  # Output: (1, 2, 3, 4)\n"
   ]
  },
  {
   "cell_type": "code",
   "execution_count": 26,
   "id": "b5bec3d9-fd8b-4080-a5b9-0630188009dc",
   "metadata": {},
   "outputs": [],
   "source": [
    "#Mutable\n",
    "#Lists\n",
    "list1 = [1, 2, 3]\n",
    "list1.append(4)  # Modifying the list by adding an element\n",
    "print(list1)  # Output: [1, 2, 3, 4]\n",
    "\n",
    "list1[0] = 5  # Modifying an element at a specific index\n",
    "print(list1)  # Output: [5, 2, 3, 4]\n",
    "\n",
    "\n",
    "#Dictionaries\n",
    "dict1 = {\"key1\": 1, \"key2\": 2}\n",
    "dict1[\"key1\"] = 3  # Modifying the value of an existing key\n",
    "print(dict1)  # Output: {\"key1\": 3, \"key2\": 2}\n",
    "\n",
    "dict1[\"key3\"] = 4  # Adding a new key-value pair\n",
    "print(dict1)  # Output: {\"key1\": 3, \"key2\": 2, \"key3\": 4}\n",
    "\n",
    "del dict1[\"key2\"]  # Removing a key-value pair\n",
    "print(dict1)  # Output: {\"key1\": 3, \"key3\": 4}\n"
   ]
  }
 ],
 "metadata": {
  "kernelspec": {
   "display_name": "Python 3 (ipykernel)",
   "language": "python",
   "name": "python3"
  },
  "language_info": {
   "codemirror_mode": {
    "name": "ipython",
    "version": 3
   },
   "file_extension": ".py",
   "mimetype": "text/x-python",
   "name": "python",
   "nbconvert_exporter": "python",
   "pygments_lexer": "ipython3",
   "version": "3.10.8"
  }
 },
 "nbformat": 4,
 "nbformat_minor": 5
}
